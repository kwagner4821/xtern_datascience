{
  "nbformat": 4,
  "nbformat_minor": 0,
  "metadata": {
    "colab": {
      "name": "xternKyleWagner.ipynb",
      "provenance": [],
      "collapsed_sections": []
    },
    "kernelspec": {
      "name": "python3",
      "display_name": "Python 3"
    }
  },
  "cells": [
    {
      "cell_type": "code",
      "metadata": {
        "id": "LzgLPTxLursX",
        "outputId": "c8ca34d9-7a45-4697-b5f9-d3cfd2690576",
        "colab": {
          "base_uri": "https://localhost:8080/",
          "height": 51
        }
      },
      "source": [
        "import numpy as np\n",
        "import pandas as pd\n",
        "%load_ext rpy2.ipython"
      ],
      "execution_count": 15,
      "outputs": [
        {
          "output_type": "stream",
          "text": [
            "The rpy2.ipython extension is already loaded. To reload it, use:\n",
            "  %reload_ext rpy2.ipython\n"
          ],
          "name": "stdout"
        }
      ]
    },
    {
      "cell_type": "code",
      "metadata": {
        "id": "ts6uvBPbvDkw",
        "outputId": "28b97768-7183-4a83-c1ae-ec4ede5366f7",
        "colab": {
          "base_uri": "https://localhost:8080/",
          "height": 130
        }
      },
      "source": [
        "url = \"https://raw.githubusercontent.com/kwagner4821/xtern_datascience/main/2020-XTern-DS.csv\"\n",
        "df = pd.read_csv(url)\n",
        "np_df = pd.DataFrame.to_numpy(df)\n",
        "\n"
      ],
      "execution_count": 77,
      "outputs": [
        {
          "output_type": "error",
          "ename": "SyntaxError",
          "evalue": "ignored",
          "traceback": [
            "\u001b[0;36m  File \u001b[0;32m\"<ipython-input-77-0bb3e13105d0>\"\u001b[0;36m, line \u001b[0;32m5\u001b[0m\n\u001b[0;31m    %%R\u001b[0m\n\u001b[0m    ^\u001b[0m\n\u001b[0;31mSyntaxError\u001b[0m\u001b[0;31m:\u001b[0m invalid syntax\n"
          ]
        }
      ]
    },
    {
      "cell_type": "code",
      "metadata": {
        "id": "QTlYbJWM5vMb",
        "outputId": "44c749ee-4d27-4109-ffa7-133f3ec5d8b6",
        "colab": {
          "base_uri": "https://localhost:8080/",
          "height": 289
        }
      },
      "source": [
        "%%R\n",
        "df1 <- read_csv(\"https://raw.githubusercontent.com/kwagner4821/xtern_datascience/main/2020-XTern-DS.csv\")\n",
        "ggplot(df1,aes(x=Longitude,y=Latitude)) + \n",
        "geom_point()\n",
        "df1$Rating = as.numeric(df1$Rating)\n",
        "df1$Votes = as.numeric(df1$Votes)"
      ],
      "execution_count": 106,
      "outputs": [
        {
          "output_type": "stream",
          "text": [
            "R[write to console]: \n",
            "── Column specification ────────────────────────────────────────────────────────\n",
            "cols(\n",
            "  Restaurant = col_character(),\n",
            "  Latitude = col_double(),\n",
            "  Longitude = col_double(),\n",
            "  Cuisines = col_character(),\n",
            "  Average_Cost = col_character(),\n",
            "  Minimum_Order = col_character(),\n",
            "  Rating = col_character(),\n",
            "  Votes = col_character(),\n",
            "  Reviews = col_character(),\n",
            "  Cook_Time = col_character()\n",
            ")\n",
            "\n",
            "\n"
          ],
          "name": "stderr"
        }
      ]
    },
    {
      "cell_type": "markdown",
      "metadata": {
        "id": "YdNmENfZwycm"
      },
      "source": [
        "Conclusion 1\n",
        "\n",
        "Identifying Trending Restaurants\n",
        "The scoring algorithm takes into account average rating and number of votes.\n",
        "The score is produced as following:\n",
        "score = quantile(rating)*.75 + quantile(votes)*.25\n",
        "Because rating is slightly more important than number of votes."
      ]
    },
    {
      "cell_type": "code",
      "metadata": {
        "id": "gbZehMcz0VNe",
        "outputId": "80ac7112-6e1b-4100-e58a-428539ac7740",
        "colab": {
          "base_uri": "https://localhost:8080/",
          "height": 531
        }
      },
      "source": [
        "%%R\n",
        "ggplot(df1,aes(x=(Rating))) + \n",
        "  geom_histogram()"
      ],
      "execution_count": 79,
      "outputs": [
        {
          "output_type": "stream",
          "text": [
            "R[write to console]: `stat_bin()` using `bins = 30`. Pick better value with `binwidth`.\n",
            "\n"
          ],
          "name": "stderr"
        },
        {
          "output_type": "display_data",
          "data": {
            "image/png": "[encoded data removed]"
          },
          "metadata": {
            "tags": []
          }
        }
      ]
    },
    {
      "cell_type": "markdown",
      "metadata": {
        "id": "-3W0bo921Xsd"
      },
      "source": [
        "Initial EDA of rating."
      ]
    },
    {
      "cell_type": "code",
      "metadata": {
        "id": "rn6mFrHG1kwY",
        "outputId": "a3b52562-bdb7-41eb-857e-1e0cf3be35cc",
        "colab": {
          "base_uri": "https://localhost:8080/",
          "height": 531
        }
      },
      "source": [
        "%%R\n",
        "ggplot(df1,aes(x=Votes)) + \n",
        "  geom_histogram()"
      ],
      "execution_count": 80,
      "outputs": [
        {
          "output_type": "stream",
          "text": [
            "R[write to console]: `stat_bin()` using `bins = 30`. Pick better value with `binwidth`.\n",
            "\n"
          ],
          "name": "stderr"
        },
        {
          "output_type": "display_data",
          "data": {
            "image/png": "[encoded data removed]"
          },
          "metadata": {
            "tags": []
          }
        }
      ]
    },
    {
      "cell_type": "code",
      "metadata": {
        "id": "LsmbJXZS1xVY"
      },
      "source": [
        "%%R\n",
        "p1 <- ecdf(df1$Votes)\n",
        "p2 <- ecdf(df1$Rating)\n",
        "df1 <- mutate(\n",
        "    df1,\n",
        "    q_votes = p1(Votes),\n",
        "    q_rating = p2(Rating)\n",
        ")"
      ],
      "execution_count": 81,
      "outputs": []
    },
    {
      "cell_type": "markdown",
      "metadata": {
        "id": "gAq0MKbS2o0l"
      },
      "source": [
        "Calculating Scores"
      ]
    },
    {
      "cell_type": "code",
      "metadata": {
        "id": "93DbY0522jF4"
      },
      "source": [
        "%%R\n",
        "df1 <- mutate(\n",
        "    df1,\n",
        "    scoring_metric = q_votes + q_rating\n",
        ")"
      ],
      "execution_count": 82,
      "outputs": []
    },
    {
      "cell_type": "code",
      "metadata": {
        "id": "rg-Tw89L2yp_",
        "outputId": "6e902359-62bc-4c76-8da0-2d92cecfe0d6",
        "colab": {
          "base_uri": "https://localhost:8080/",
          "height": 531
        }
      },
      "source": [
        "%%R\n",
        "ggplot(df1,aes(x=scoring_metric)) + \n",
        "  geom_histogram()"
      ],
      "execution_count": 83,
      "outputs": [
        {
          "output_type": "stream",
          "text": [
            "R[write to console]: `stat_bin()` using `bins = 30`. Pick better value with `binwidth`.\n",
            "\n"
          ],
          "name": "stderr"
        },
        {
          "output_type": "display_data",
          "data": {
            "image/png": "[encoded data removed]"
          },
          "metadata": {
            "tags": []
          }
        }
      ]
    },
    {
      "cell_type": "code",
      "metadata": {
        "id": "7vq5mb7a3pAO",
        "outputId": "e9dd7ad1-cc6f-491e-b13c-3e74544fe1e9",
        "colab": {
          "base_uri": "https://localhost:8080/",
          "height": 238
        }
      },
      "source": [
        "%%R\n",
        "df1 %>%\n",
        "  select(Restaurant,scoring_metric,Rating,Votes) %>%\n",
        "  arrange(desc(scoring_metric)) %>%\n",
        "  head(10)"
      ],
      "execution_count": 84,
      "outputs": [
        {
          "output_type": "stream",
          "text": [
            "# A tibble: 10 x 4\n",
            "   Restaurant scoring_metric Rating Votes\n",
            "   <chr>               <dbl>  <dbl> <dbl>\n",
            " 1 ID_1064              2.00    4.7  9054\n",
            " 2 ID_2051              1.99    4.7  3975\n",
            " 3 ID_1666              1.99    4.6  4903\n",
            " 4 ID_6915              1.98    4.6  2858\n",
            " 5 ID_2421              1.98    4.5  2831\n",
            " 6 ID_7158              1.98    4.5  2805\n",
            " 7 ID_2041              1.97    4.4  3248\n",
            " 8 ID_7678              1.97    4.6  1507\n",
            " 9 ID_7739              1.96    4.6  1502\n",
            "10 ID_2885              1.96    4.3  4691\n"
          ],
          "name": "stdout"
        }
      ]
    },
    {
      "cell_type": "markdown",
      "metadata": {
        "id": "w3Uf85AG4JTc"
      },
      "source": [
        "Displayed the table of the restaurant with the highest overall score and includes rating and number of votes."
      ]
    },
    {
      "cell_type": "markdown",
      "metadata": {
        "id": "WIKg2o8sw2Id"
      },
      "source": [
        "Conclusion 2\n",
        "\n",
        "Utilizing "
      ]
    },
    {
      "cell_type": "code",
      "metadata": {
        "id": "nM0GDqsNw4h_",
        "outputId": "5a3218dc-48e5-4dc6-f2b6-ca4c72c93e29",
        "colab": {
          "base_uri": "https://localhost:8080/",
          "height": 164
        }
      },
      "source": [
        ""
      ],
      "execution_count": 85,
      "outputs": [
        {
          "output_type": "error",
          "ename": "NameError",
          "evalue": "ignored",
          "traceback": [
            "\u001b[0;31m---------------------------------------------------------------------------\u001b[0m",
            "\u001b[0;31mNameError\u001b[0m                                 Traceback (most recent call last)",
            "\u001b[0;32m<ipython-input-85-6a861a8b3f1a>\u001b[0m in \u001b[0;36m<module>\u001b[0;34m()\u001b[0m\n\u001b[0;32m----> 1\u001b[0;31m \u001b[0mdf1\u001b[0m\u001b[0;34m\u001b[0m\u001b[0;34m\u001b[0m\u001b[0m\n\u001b[0m",
            "\u001b[0;31mNameError\u001b[0m: name 'df1' is not defined"
          ]
        }
      ]
    },
    {
      "cell_type": "markdown",
      "metadata": {
        "id": "uQYyYL3nw5C0"
      },
      "source": [
        "Conclusion 3\n",
        "Estimating cooking time based on restaurant info.\n",
        "We try to see the relationship between time and average cost, and whether we can predict using cost."
      ]
    },
    {
      "cell_type": "code",
      "metadata": {
        "id": "7BMl6rHRw6Dh",
        "outputId": "2b6f9634-8222-4674-b8e0-222a8dfd9c74",
        "colab": {
          "base_uri": "https://localhost:8080/",
          "height": 255
        }
      },
      "source": [
        "%%R\n",
        "df1$Average_Cost = gsub(\"$\",\"\",df1$Average_Cost)\n",
        "my.fun = function(x){\n",
        "    y = gsub(\"$\",\"\",x)\n",
        "    return(y)\n",
        "}\n",
        "apply(df1$Average_Cost,1,my.fun)\n",
        "df1$Cook_time = as.numeric(df1$Cook_Time)"
      ],
      "execution_count": 114,
      "outputs": [
        {
          "output_type": "stream",
          "text": [
            "R[write to console]: Error in apply(df1$Average_Cost, 1, my.fun) : \n",
            "  dim(X) must have a positive length\n",
            "Calls: <Anonymous> -> <Anonymous> -> withVisible -> apply\n",
            "\n",
            "R[write to console]: In addition: \n",
            "R[write to console]: Warning message:\n",
            "\n",
            "R[write to console]: In withVisible({ :\n",
            "R[write to console]:  NAs introduced by coercion\n",
            "\n"
          ],
          "name": "stderr"
        },
        {
          "output_type": "stream",
          "text": [
            "\n",
            "Error in apply(df1$Average_Cost, 1, my.fun) : \n",
            "  dim(X) must have a positive length\n",
            "Calls: <Anonymous> -> <Anonymous> -> withVisible -> apply\n"
          ],
          "name": "stdout"
        }
      ]
    },
    {
      "cell_type": "code",
      "metadata": {
        "id": "DUWHR2zi5PSj",
        "outputId": "e99c0ef9-9f48-41fc-db0a-0602122effdc",
        "colab": {
          "base_uri": "https://localhost:8080/",
          "height": 1000
        }
      },
      "source": [
        "%%R\n",
        "df1$Average_Cost\n",
        "#ggplot(df1,aes(x=Cook_time,y=num_cost)) + \n",
        "#  geom_point()"
      ],
      "execution_count": 113,
      "outputs": [
        {
          "output_type": "stream",
          "text": [
            "   [1] \"$20.00\"  \"$10.00\"  \"$15.00\"  \"$25.00\"  \"$20.00\"  \"$15.00\"  \"$15.00\" \n",
            "   [8] \"$65.00\"  \"$10.00\"  \"$20.00\"  \"$35.00\"  \"$80.00\"  \"$15.00\"  \"$5.00\"  \n",
            "  [15] \"$10.00\"  \"$10.00\"  \"$10.00\"  \"$20.00\"  \"$15.00\"  \"$10.00\"  \"$20.00\" \n",
            "  [22] \"$15.00\"  \"$25.00\"  \"$20.00\"  \"$15.00\"  \"$10.00\"  \"$10.00\"  \"$15.00\" \n",
            "  [29] \"$15.00\"  \"$20.00\"  \"$15.00\"  \"$40.00\"  \"$20.00\"  \"$35.00\"  \"$10.00\" \n",
            "  [36] \"$60.00\"  \"$10.00\"  \"$10.00\"  \"$20.00\"  \"$30.00\"  \"$20.00\"  \"$15.00\" \n",
            "  [43] \"$15.00\"  \"$10.00\"  \"$20.00\"  \"$20.00\"  \"$20.00\"  \"$20.00\"  \"$20.00\" \n",
            "  [50] \"$20.00\"  \"$15.00\"  \"$15.00\"  \"$10.00\"  \"$20.00\"  \"$25.00\"  \"$10.00\" \n",
            "  [57] \"$15.00\"  \"$25.00\"  \"$10.00\"  \"$10.00\"  \"$35.00\"  \"$10.00\"  \"$60.00\" \n",
            "  [64] \"$20.00\"  \"$20.00\"  \"$15.00\"  \"$10.00\"  \"$20.00\"  \"$15.00\"  \"$30.00\" \n",
            "  [71] \"$30.00\"  \"$15.00\"  \"$20.00\"  \"$10.00\"  \"$35.00\"  \"$10.00\"  \"$10.00\" \n",
            "  [78] \"$10.00\"  \"$10.00\"  \"$10.00\"  \"$75.00\"  \"$10.00\"  \"$15.00\"  \"$20.00\" \n",
            "  [85] \"$15.00\"  \"$20.00\"  \"$15.00\"  \"$20.00\"  \"$10.00\"  \"$5.00\"   \"$15.00\" \n",
            "  [92] \"$15.00\"  \"$10.00\"  \"$20.00\"  \"$20.00\"  \"$10.00\"  \"$20.00\"  \"$10.00\" \n",
            "  [99] \"$10.00\"  \"$15.00\"  \"$30.00\"  \"$20.00\"  \"$20.00\"  \"$10.00\"  \"$20.00\" \n",
            " [106] \"$10.00\"  \"$20.00\"  \"$20.00\"  \"$15.00\"  \"$10.00\"  \"$20.00\"  \"$20.00\" \n",
            " [113] \"$15.00\"  \"$10.00\"  \"$15.00\"  \"$15.00\"  \"$30.00\"  \"$25.00\"  \"$15.00\" \n",
            " [120] \"$15.00\"  \"$10.00\"  \"$20.00\"  \"$30.00\"  \"$45.00\"  \"$35.00\"  \"$10.00\" \n",
            " [127] \"$15.00\"  \"$5.00\"   \"$20.00\"  \"$30.00\"  \"$25.00\"  \"$15.00\"  \"$10.00\" \n",
            " [134] \"$15.00\"  \"$5.00\"   \"$20.00\"  \"$15.00\"  \"$15.00\"  \"$10.00\"  \"$20.00\" \n",
            " [141] \"$10.00\"  \"$30.00\"  \"$15.00\"  \"$10.00\"  \"$25.00\"  \"$5.00\"   \"$15.00\" \n",
            " [148] \"$15.00\"  \"$15.00\"  \"$15.00\"  \"$20.00\"  \"$15.00\"  \"$20.00\"  \"$10.00\" \n",
            " [155] \"$25.00\"  \"$15.00\"  \"$15.00\"  \"$15.00\"  \"$20.00\"  \"$20.00\"  \"$25.00\" \n",
            " [162] \"$10.00\"  \"$20.00\"  \"$10.00\"  \"$25.00\"  \"$20.00\"  \"$10.00\"  \"$60.00\" \n",
            " [169] \"$15.00\"  \"$15.00\"  \"$30.00\"  \"$20.00\"  \"$15.00\"  \"$20.00\"  \"$10.00\" \n",
            " [176] \"$20.00\"  \"$40.00\"  \"$55.00\"  \"$15.00\"  \"$5.00\"   \"$35.00\"  \"$15.00\" \n",
            " [183] \"$20.00\"  \"$20.00\"  \"$15.00\"  \"$20.00\"  \"$10.00\"  \"$15.00\"  \"$15.00\" \n",
            " [190] \"$20.00\"  \"$10.00\"  \"$30.00\"  \"$15.00\"  \"$15.00\"  \"$15.00\"  \"$10.00\" \n",
            " [197] \"$20.00\"  \"$65.00\"  \"$20.00\"  \"$35.00\"  \"$10.00\"  \"$15.00\"  \"$15.00\" \n",
            " [204] \"$40.00\"  \"$15.00\"  \"$80.00\"  \"$15.00\"  \"$20.00\"  \"$15.00\"  \"$15.00\" \n",
            " [211] \"$20.00\"  \"$15.00\"  \"$20.00\"  \"$20.00\"  \"$20.00\"  \"$15.00\"  \"$15.00\" \n",
            " [218] \"$10.00\"  \"$10.00\"  \"$15.00\"  \"$15.00\"  \"$25.00\"  \"$25.00\"  \"$20.00\" \n",
            " [225] \"$15.00\"  \"$100.00\" \"$10.00\"  \"$15.00\"  \"$10.00\"  \"$15.00\"  \"$5.00\"  \n",
            " [232] \"$10.00\"  \"$10.00\"  \"$10.00\"  \"$10.00\"  \"$10.00\"  \"$15.00\"  \"$15.00\" \n",
            " [239] \"$10.00\"  \"$20.00\"  \"$30.00\"  \"$10.00\"  \"$15.00\"  \"$25.00\"  \"$15.00\" \n",
            " [246] \"$15.00\"  \"$30.00\"  \"$30.00\"  \"$20.00\"  \"$30.00\"  \"$20.00\"  \"$20.00\" \n",
            " [253] \"$10.00\"  \"$15.00\"  \"$25.00\"  \"$10.00\"  \"$20.00\"  \"$20.00\"  \"$15.00\" \n",
            " [260] \"$10.00\"  \"$15.00\"  \"$10.00\"  \"$15.00\"  \"$15.00\"  \"$10.00\"  \"$20.00\" \n",
            " [267] \"$10.00\"  \"$25.00\"  \"$15.00\"  \"$25.00\"  \"$20.00\"  \"$10.00\"  \"$65.00\" \n",
            " [274] \"$15.00\"  \"$25.00\"  \"$10.00\"  \"$10.00\"  \"$30.00\"  \"$15.00\"  \"$20.00\" \n",
            " [281] \"$25.00\"  \"$20.00\"  \"$60.00\"  \"$10.00\"  \"$10.00\"  \"$20.00\"  \"$10.00\" \n",
            " [288] \"$20.00\"  \"$20.00\"  \"$15.00\"  \"$35.00\"  \"$35.00\"  \"$5.00\"   \"$10.00\" \n",
            " [295] \"$15.00\"  \"$20.00\"  \"$20.00\"  \"$10.00\"  \"$20.00\"  \"$25.00\"  \"$20.00\" \n",
            " [302] \"$20.00\"  \"$10.00\"  \"$35.00\"  \"$10.00\"  \"$10.00\"  \"$10.00\"  \"$15.00\" \n",
            " [309] \"$20.00\"  \"$10.00\"  \"$50.00\"  \"$10.00\"  \"$20.00\"  \"$20.00\"  \"$15.00\" \n",
            " [316] \"$20.00\"  \"$25.00\"  \"$10.00\"  \"$30.00\"  \"$10.00\"  \"$10.00\"  \"$20.00\" \n",
            " [323] \"$20.00\"  \"$25.00\"  \"$15.00\"  \"$25.00\"  \"$10.00\"  \"$15.00\"  \"$15.00\" \n",
            " [330] \"$20.00\"  \"$20.00\"  \"$10.00\"  \"$5.00\"   \"$30.00\"  \"$30.00\"  \"$55.00\" \n",
            " [337] \"$80.00\"  \"$10.00\"  \"$20.00\"  \"$20.00\"  \"$65.00\"  \"$15.00\"  \"$25.00\" \n",
            " [344] \"$10.00\"  \"$10.00\"  \"$20.00\"  \"$10.00\"  \"$20.00\"  \"$20.00\"  \"$15.00\" \n",
            " [351] \"$15.00\"  \"$10.00\"  \"$20.00\"  \"$15.00\"  \"$20.00\"  \"$10.00\"  \"$20.00\" \n",
            " [358] \"$10.00\"  \"$15.00\"  \"$30.00\"  \"$10.00\"  \"$15.00\"  \"$10.00\"  \"$30.00\" \n",
            " [365] \"$10.00\"  \"$10.00\"  \"$15.00\"  \"$10.00\"  \"$10.00\"  \"$5.00\"   \"$10.00\" \n",
            " [372] \"$10.00\"  \"$20.00\"  \"$10.00\"  \"$20.00\"  \"$40.00\"  \"$10.00\"  \"$50.00\" \n",
            " [379] \"$20.00\"  \"$5.00\"   \"$10.00\"  \"$10.00\"  \"$20.00\"  \"$40.00\"  \"$20.00\" \n",
            " [386] \"$55.00\"  \"$15.00\"  \"$25.00\"  \"$15.00\"  \"$15.00\"  \"$15.00\"  \"$30.00\" \n",
            " [393] \"$10.00\"  \"$15.00\"  \"$20.00\"  \"$10.00\"  \"$20.00\"  \"$30.00\"  \"$15.00\" \n",
            " [400] \"$20.00\"  \"$15.00\"  \"$20.00\"  \"$10.00\"  \"$15.00\"  \"$40.00\"  \"$20.00\" \n",
            " [407] \"$25.00\"  \"$15.00\"  \"$15.00\"  \"$20.00\"  \"$15.00\"  \"$15.00\"  \"$20.00\" \n",
            " [414] \"$20.00\"  \"$25.00\"  \"$15.00\"  \"$35.00\"  \"$10.00\"  \"$15.00\"  \"$25.00\" \n",
            " [421] \"$15.00\"  \"$20.00\"  \"$10.00\"  \"$15.00\"  \"$20.00\"  \"$15.00\"  \"$20.00\" \n",
            " [428] \"$50.00\"  \"$15.00\"  \"$20.00\"  \"$10.00\"  \"$5.00\"   \"$50.00\"  \"$10.00\" \n",
            " [435] \"$15.00\"  \"$15.00\"  \"$10.00\"  \"$10.00\"  \"$10.00\"  \"$20.00\"  \"$20.00\" \n",
            " [442] \"$15.00\"  \"$10.00\"  \"$20.00\"  \"$15.00\"  \"$10.00\"  \"$30.00\"  \"$10.00\" \n",
            " [449] \"$20.00\"  \"$20.00\"  \"$30.00\"  \"$15.00\"  \"$20.00\"  \"$10.00\"  \"$30.00\" \n",
            " [456] \"$40.00\"  \"$20.00\"  \"$10.00\"  \"$20.00\"  \"$25.00\"  \"$15.00\"  \"$15.00\" \n",
            " [463] \"$10.00\"  \"$20.00\"  \"$15.00\"  \"$10.00\"  \"$35.00\"  \"$10.00\"  \"$10.00\" \n",
            " [470] \"$20.00\"  \"$10.00\"  \"$20.00\"  \"$20.00\"  \"$20.00\"  \"$15.00\"  \"$30.00\" \n",
            " [477] \"$15.00\"  \"$20.00\"  \"$25.00\"  \"$20.00\"  \"$10.00\"  \"$10.00\"  \"$15.00\" \n",
            " [484] \"$20.00\"  \"$10.00\"  \"$20.00\"  \"$50.00\"  \"$10.00\"  \"$20.00\"  \"$5.00\"  \n",
            " [491] \"$20.00\"  \"$20.00\"  \"$20.00\"  \"$30.00\"  \"$15.00\"  \"$15.00\"  \"$10.00\" \n",
            " [498] \"$10.00\"  \"$15.00\"  \"$20.00\"  \"$15.00\"  \"$20.00\"  \"$20.00\"  \"$20.00\" \n",
            " [505] \"$60.00\"  \"$15.00\"  \"$20.00\"  \"$10.00\"  \"$10.00\"  \"$20.00\"  \"$80.00\" \n",
            " [512] \"$30.00\"  \"$15.00\"  \"$25.00\"  \"$20.00\"  \"$10.00\"  \"$15.00\"  \"$40.00\" \n",
            " [519] \"$25.00\"  \"$10.00\"  \"$80.00\"  \"$10.00\"  \"$15.00\"  \"$10.00\"  \"$15.00\" \n",
            " [526] \"$10.00\"  \"$15.00\"  \"$20.00\"  \"$10.00\"  \"$10.00\"  \"$10.00\"  \"$40.00\" \n",
            " [533] \"$10.00\"  \"$15.00\"  \"$10.00\"  \"$20.00\"  \"$50.00\"  \"$15.00\"  \"$10.00\" \n",
            " [540] \"$20.00\"  \"$10.00\"  \"$30.00\"  \"$25.00\"  \"$20.00\"  \"$20.00\"  \"$20.00\" \n",
            " [547] \"$10.00\"  \"$20.00\"  \"$15.00\"  \"$10.00\"  \"$25.00\"  \"$25.00\"  \"$40.00\" \n",
            " [554] \"$10.00\"  \"$35.00\"  \"$10.00\"  \"$10.00\"  \"$60.00\"  \"$20.00\"  \"$10.00\" \n",
            " [561] \"$35.00\"  \"$20.00\"  \"$20.00\"  \"$20.00\"  \"$20.00\"  \"$50.00\"  \"$5.00\"  \n",
            " [568] \"$25.00\"  \"$20.00\"  \"$10.00\"  \"$20.00\"  \"$15.00\"  \"$15.00\"  \"$10.00\" \n",
            " [575] \"$10.00\"  \"$20.00\"  \"$20.00\"  \"$20.00\"  \"$10.00\"  \"$35.00\"  \"$10.00\" \n",
            " [582] \"$20.00\"  \"$20.00\"  \"$10.00\"  \"$20.00\"  \"$20.00\"  \"$15.00\"  \"$10.00\" \n",
            " [589] \"$25.00\"  \"$20.00\"  \"$20.00\"  \"$15.00\"  \"$55.00\"  \"$10.00\"  \"$10.00\" \n",
            " [596] \"$5.00\"   \"$25.00\"  \"$35.00\"  \"$25.00\"  \"$55.00\"  \"$25.00\"  \"$20.00\" \n",
            " [603] \"$30.00\"  \"$40.00\"  \"$15.00\"  \"$25.00\"  \"$20.00\"  \"$20.00\"  \"$15.00\" \n",
            " [610] \"$15.00\"  \"$20.00\"  \"$20.00\"  \"$10.00\"  \"$15.00\"  \"$20.00\"  \"$10.00\" \n",
            " [617] \"$30.00\"  \"$25.00\"  \"$15.00\"  \"$25.00\"  \"$20.00\"  \"$15.00\"  \"$40.00\" \n",
            " [624] \"$10.00\"  \"$10.00\"  \"$10.00\"  \"$15.00\"  \"$30.00\"  \"$10.00\"  \"$10.00\" \n",
            " [631] \"$15.00\"  \"$30.00\"  \"$20.00\"  \"$15.00\"  \"$10.00\"  \"$20.00\"  \"$15.00\" \n",
            " [638] \"$15.00\"  \"$5.00\"   \"$15.00\"  \"$15.00\"  \"$20.00\"  \"$10.00\"  \"$20.00\" \n",
            " [645] \"$10.00\"  \"$60.00\"  \"$20.00\"  \"$5.00\"   \"$10.00\"  \"$20.00\"  \"$10.00\" \n",
            " [652] \"$15.00\"  \"$10.00\"  \"$30.00\"  \"$10.00\"  \"$15.00\"  \"$15.00\"  \"$15.00\" \n",
            " [659] \"$35.00\"  \"$20.00\"  \"$20.00\"  \"$15.00\"  \"$20.00\"  \"$15.00\"  \"$30.00\" \n",
            " [666] \"$10.00\"  \"$10.00\"  \"$10.00\"  \"$40.00\"  \"$15.00\"  \"$20.00\"  \"$35.00\" \n",
            " [673] \"$10.00\"  \"$50.00\"  \"$30.00\"  \"$10.00\"  \"$5.00\"   \"$20.00\"  \"$20.00\" \n",
            " [680] \"$20.00\"  \"$15.00\"  \"$15.00\"  \"$15.00\"  \"$90.00\"  \"$10.00\"  \"$10.00\" \n",
            " [687] \"$15.00\"  \"$20.00\"  \"$15.00\"  \"$15.00\"  \"$10.00\"  \"$10.00\"  \"$50.00\" \n",
            " [694] \"$35.00\"  \"$20.00\"  \"$10.00\"  \"$15.00\"  \"$10.00\"  \"$30.00\"  \"$20.00\" \n",
            " [701] \"$15.00\"  \"$5.00\"   \"$20.00\"  \"$45.00\"  \"$25.00\"  \"$15.00\"  \"$15.00\" \n",
            " [708] \"$15.00\"  \"$10.00\"  \"$75.00\"  \"$10.00\"  \"$20.00\"  \"$10.00\"  \"$20.00\" \n",
            " [715] \"$50.00\"  \"$40.00\"  \"$20.00\"  \"$20.00\"  \"$20.00\"  \"$20.00\"  \"$15.00\" \n",
            " [722] \"$40.00\"  \"$15.00\"  \"$15.00\"  \"$15.00\"  \"$20.00\"  \"$40.00\"  \"$20.00\" \n",
            " [729] \"$20.00\"  \"$15.00\"  \"$10.00\"  \"$30.00\"  \"$60.00\"  \"$60.00\"  \"$10.00\" \n",
            " [736] \"$10.00\"  \"$10.00\"  \"$15.00\"  \"$20.00\"  \"$15.00\"  \"$10.00\"  \"$15.00\" \n",
            " [743] \"$20.00\"  \"$20.00\"  \"$40.00\"  \"$10.00\"  \"$20.00\"  \"$20.00\"  \"$20.00\" \n",
            " [750] \"$10.00\"  \"$20.00\"  \"$35.00\"  \"$20.00\"  \"$15.00\"  \"$10.00\"  \"$15.00\" \n",
            " [757] \"$20.00\"  \"$20.00\"  \"$25.00\"  \"$65.00\"  \"$15.00\"  \"$40.00\"  \"$15.00\" \n",
            " [764] \"$20.00\"  \"$10.00\"  \"$10.00\"  \"$15.00\"  \"$10.00\"  \"$35.00\"  \"$15.00\" \n",
            " [771] \"$30.00\"  \"$60.00\"  \"$30.00\"  \"$15.00\"  \"$10.00\"  \"$10.00\"  \"$20.00\" \n",
            " [778] \"$15.00\"  \"$15.00\"  \"$15.00\"  \"$25.00\"  \"$15.00\"  \"$50.00\"  \"$40.00\" \n",
            " [785] \"$90.00\"  \"$25.00\"  \"$10.00\"  \"$20.00\"  \"$30.00\"  \"$25.00\"  \"$15.00\" \n",
            " [792] \"$40.00\"  \"$10.00\"  \"$15.00\"  \"$20.00\"  \"$25.00\"  \"$5.00\"   \"$15.00\" \n",
            " [799] \"$10.00\"  \"$20.00\"  \"$5.00\"   \"$20.00\"  \"$5.00\"   \"$55.00\"  \"$20.00\" \n",
            " [806] \"$10.00\"  \"$20.00\"  \"$10.00\"  \"$10.00\"  \"$20.00\"  \"$15.00\"  \"$20.00\" \n",
            " [813] \"$25.00\"  \"$20.00\"  \"$5.00\"   \"$20.00\"  \"$15.00\"  \"$25.00\"  \"$20.00\" \n",
            " [820] \"$25.00\"  \"$30.00\"  \"$15.00\"  \"1,00\"    \"$40.00\"  \"$10.00\"  \"$20.00\" \n",
            " [827] \"$15.00\"  \"$10.00\"  \"$10.00\"  \"$15.00\"  \"$10.00\"  \"$10.00\"  \"$10.00\" \n",
            " [834] \"$15.00\"  \"$15.00\"  \"$10.00\"  \"$20.00\"  \"$30.00\"  \"$10.00\"  \"$20.00\" \n",
            " [841] \"$20.00\"  \"$30.00\"  \"$10.00\"  \"$10.00\"  \"$10.00\"  \"$5.00\"   \"$10.00\" \n",
            " [848] \"$20.00\"  \"$20.00\"  \"$25.00\"  \"$20.00\"  \"$25.00\"  \"$15.00\"  \"$15.00\" \n",
            " [855] \"$20.00\"  \"$25.00\"  \"$10.00\"  \"$10.00\"  \"$25.00\"  \"$40.00\"  \"$20.00\" \n",
            " [862] \"$20.00\"  \"$35.00\"  \"$20.00\"  \"$20.00\"  \"$20.00\"  \"$10.00\"  \"$20.00\" \n",
            " [869] \"$10.00\"  \"$20.00\"  \"$15.00\"  \"$20.00\"  \"$20.00\"  \"$10.00\"  \"$15.00\" \n",
            " [876] \"$15.00\"  \"$10.00\"  \"$5.00\"   \"$15.00\"  \"$20.00\"  \"$20.00\"  \"$20.00\" \n",
            " [883] \"$15.00\"  \"$20.00\"  \"$20.00\"  \"$25.00\"  \"$40.00\"  \"$10.00\"  \"$20.00\" \n",
            " [890] \"$75.00\"  \"$30.00\"  \"$10.00\"  \"$20.00\"  \"$20.00\"  \"$30.00\"  \"$10.00\" \n",
            " [897] \"$40.00\"  \"$10.00\"  \"$25.00\"  \"$15.00\"  \"$20.00\"  \"$50.00\"  \"$25.00\" \n",
            " [904] \"$20.00\"  \"$20.00\"  \"$40.00\"  \"$15.00\"  \"$20.00\"  \"$25.00\"  \"$20.00\" \n",
            " [911] \"$40.00\"  \"$15.00\"  \"$10.00\"  \"$15.00\"  \"$15.00\"  \"$20.00\"  \"$20.00\" \n",
            " [918] \"$10.00\"  \"$10.00\"  \"$10.00\"  \"$20.00\"  \"$10.00\"  \"$25.00\"  \"$15.00\" \n",
            " [925] \"$20.00\"  \"$10.00\"  \"$15.00\"  \"$15.00\"  \"$20.00\"  \"$15.00\"  \"$25.00\" \n",
            " [932] \"$30.00\"  \"$15.00\"  \"$20.00\"  \"$30.00\"  \"$15.00\"  \"$20.00\"  \"$25.00\" \n",
            " [939] \"$10.00\"  \"$20.00\"  \"$15.00\"  \"$20.00\"  \"$10.00\"  \"$20.00\"  \"$10.00\" \n",
            " [946] \"$10.00\"  \"$10.00\"  \"$20.00\"  \"$10.00\"  \"$10.00\"  \"$10.00\"  \"$15.00\" \n",
            " [953] \"$10.00\"  \"$10.00\"  \"$20.00\"  \"$15.00\"  \"$20.00\"  \"$20.00\"  \"$10.00\" \n",
            " [960] \"$10.00\"  \"$10.00\"  \"$15.00\"  \"$20.00\"  \"$20.00\"  \"$20.00\"  \"$10.00\" \n",
            " [967] \"$15.00\"  \"$20.00\"  \"$10.00\"  \"$20.00\"  \"$20.00\"  \"$75.00\"  \"$10.00\" \n",
            " [974] \"$80.00\"  \"$15.00\"  \"$10.00\"  \"$10.00\"  \"$15.00\"  \"$25.00\"  \"$10.00\" \n",
            " [981] \"$15.00\"  \"$20.00\"  \"$15.00\"  \"$40.00\"  \"$25.00\"  \"$15.00\"  \"$30.00\" \n",
            " [988] \"$10.00\"  \"$20.00\"  \"$20.00\"  \"$20.00\"  \"$15.00\"  \"$20.00\"  \"$10.00\" \n",
            " [995] \"$20.00\"  \"$60.00\"  \"$20.00\"  \"$10.00\"  \"$15.00\"  \"$30.00\"  \"$20.00\" \n",
            "[1002] \"$25.00\"  \"$15.00\"  \"$15.00\"  \"$5.00\"   \"$20.00\"  \"$10.00\"  \"$25.00\" \n",
            "[1009] \"$15.00\"  \"$15.00\"  \"$15.00\"  \"$20.00\"  \"$30.00\"  \"$10.00\"  \"$15.00\" \n",
            "[1016] \"$20.00\"  \"$20.00\"  \"$10.00\"  \"$20.00\"  \"$15.00\"  \"$10.00\"  \"$15.00\" \n",
            "[1023] \"$10.00\"  \"$25.00\"  \"$15.00\"  \"$80.00\"  \"$15.00\"  \"$10.00\"  \"$10.00\" \n",
            "[1030] \"$20.00\"  \"$20.00\"  \"$15.00\"  \"$5.00\"   \"$15.00\"  \"$15.00\"  \"$30.00\" \n",
            "[1037] \"$15.00\"  \"$10.00\"  \"$25.00\"  \"$15.00\"  \"$10.00\"  \"$10.00\"  \"$40.00\" \n",
            "[1044] \"$15.00\"  \"$15.00\"  \"$15.00\"  \"$15.00\"  \"$55.00\"  \"$15.00\"  \"$15.00\" \n",
            "[1051] \"$30.00\"  \"$20.00\"  \"$20.00\"  \"$15.00\"  \"$10.00\"  \"$25.00\"  \"$20.00\" \n",
            "[1058] \"$20.00\"  \"$30.00\"  \"$20.00\"  \"$15.00\"  \"$15.00\"  \"$10.00\"  \"$20.00\" \n",
            "[1065] \"$10.00\"  \"$10.00\"  \"$15.00\"  \"$15.00\"  \"$20.00\"  \"$15.00\"  \"$15.00\" \n",
            "[1072] \"$15.00\"  \"$25.00\"  \"$20.00\"  \"$15.00\"  \"$30.00\"  \"$15.00\"  \"$10.00\" \n",
            "[1079] \"$40.00\"  \"$10.00\"  \"$5.00\"   \"$15.00\"  \"$20.00\"  \"$20.00\"  \"$20.00\" \n",
            "[1086] \"$20.00\"  \"$20.00\"  \"$10.00\"  \"$10.00\"  \"$40.00\"  \"$25.00\"  \"$20.00\" \n",
            "[1093] \"$15.00\"  \"$20.00\"  \"$10.00\"  \"$20.00\"  \"$30.00\"  \"$10.00\"  \"$20.00\" \n",
            "[1100] \"$10.00\"  \"$5.00\"   \"$15.00\"  \"$20.00\"  \"$20.00\"  \"$15.00\"  \"$60.00\" \n",
            "[1107] \"$15.00\"  \"$10.00\"  \"$15.00\"  \"$15.00\"  \"$15.00\"  \"$20.00\"  \"$20.00\" \n",
            "[1114] \"$15.00\"  \"$20.00\"  \"$15.00\"  \"$20.00\"  \"$30.00\"  \"$25.00\"  \"$10.00\" \n",
            "[1121] \"$20.00\"  \"$15.00\"  \"$10.00\"  \"$40.00\"  \"$10.00\"  \"$25.00\"  \"$20.00\" \n",
            "[1128] \"$20.00\"  \"$40.00\"  \"$20.00\"  \"$10.00\"  \"$20.00\"  \"$10.00\"  \"$20.00\" \n",
            "[1135] \"$40.00\"  \"$10.00\"  \"$10.00\"  \"$20.00\"  \"$10.00\"  \"$20.00\"  \"$15.00\" \n",
            "[1142] \"$15.00\"  \"$15.00\"  \"$15.00\"  \"$60.00\"  \"$10.00\"  \"$25.00\"  \"$10.00\" \n",
            "[1149] \"$10.00\"  \"$45.00\"  \"$35.00\"  \"$15.00\"  \"$10.00\"  \"$30.00\"  \"$20.00\" \n",
            "[1156] \"$20.00\"  \"$20.00\"  \"$20.00\"  \"$20.00\"  \"$35.00\"  \"$15.00\"  \"$55.00\" \n",
            "[1163] \"$55.00\"  \"$20.00\"  \"$15.00\"  \"$10.00\"  \"$20.00\"  \"$15.00\"  \"$15.00\" \n",
            "[1170] \"$40.00\"  \"$30.00\"  \"$10.00\"  \"$15.00\"  \"$10.00\"  \"$10.00\"  \"$15.00\" \n",
            "[1177] \"$15.00\"  \"$25.00\"  \"$25.00\"  \"$15.00\"  \"$80.00\"  \"$10.00\"  \"$5.00\"  \n",
            "[1184] \"$10.00\"  \"$5.00\"   \"$10.00\"  \"$20.00\"  \"$10.00\"  \"$20.00\"  \"$30.00\" \n",
            "[1191] \"$25.00\"  \"$10.00\"  \"$15.00\"  \"$10.00\"  \"$15.00\"  \"$50.00\"  \"$15.00\" \n",
            "[1198] \"$20.00\"  \"$10.00\"  \"$10.00\"  \"$10.00\"  \"$10.00\"  \"$20.00\"  \"$15.00\" \n",
            "[1205] \"$15.00\"  \"$20.00\"  \"$20.00\"  \"$15.00\"  \"$20.00\"  \"$25.00\"  \"$20.00\" \n",
            "[1212] \"$10.00\"  \"$40.00\"  \"$15.00\"  \"$10.00\"  \"$10.00\"  \"$10.00\"  \"$10.00\" \n",
            "[1219] \"$15.00\"  \"$20.00\"  \"$30.00\"  \"$5.00\"   \"$20.00\"  \"$20.00\"  \"$25.00\" \n",
            "[1226] \"$20.00\"  \"$15.00\"  \"$10.00\"  \"$25.00\"  \"$20.00\"  \"$20.00\"  \"$15.00\" \n",
            "[1233] \"$15.00\"  \"$15.00\"  \"$45.00\"  \"$20.00\"  \"$30.00\"  \"$20.00\"  \"$15.00\" \n",
            "[1240] \"$35.00\"  \"$10.00\"  \"$15.00\"  \"$20.00\"  \"$20.00\"  \"$10.00\"  \"$40.00\" \n",
            "[1247] \"$20.00\"  \"$15.00\"  \"$15.00\"  \"$25.00\"  \"$10.00\"  \"$60.00\"  \"$30.00\" \n",
            "[1254] \"$20.00\"  \"$20.00\"  \"$20.00\"  \"$20.00\"  \"$20.00\"  \"$15.00\"  \"$20.00\" \n",
            "[1261] \"$20.00\"  \"$5.00\"   \"$20.00\"  \"$20.00\"  \"$15.00\"  \"$20.00\"  \"$35.00\" \n",
            "[1268] \"$20.00\"  \"$20.00\"  \"$15.00\"  \"$10.00\"  \"$20.00\"  \"$25.00\"  \"$10.00\" \n",
            "[1275] \"$10.00\"  \"$35.00\"  \"$15.00\"  \"$25.00\"  \"$15.00\"  \"$10.00\"  \"$20.00\" \n",
            "[1282] \"$15.00\"  \"$15.00\"  \"$20.00\"  \"$5.00\"   \"$15.00\"  \"$15.00\"  \"$20.00\" \n",
            "[1289] \"$10.00\"  \"$15.00\"  \"$25.00\"  \"$15.00\"  \"$15.00\"  \"$20.00\"  \"$25.00\" \n",
            "[1296] \"$10.00\"  \"1,20\"    \"$20.00\"  \"$10.00\"  \"$10.00\"  \"$50.00\"  \"$20.00\" \n",
            "[1303] \"$20.00\"  \"$20.00\"  \"$20.00\"  \"$10.00\"  \"$10.00\"  \"$30.00\"  \"$20.00\" \n",
            "[1310] \"$15.00\"  \"$15.00\"  \"$15.00\"  \"$15.00\"  \"$15.00\"  \"$20.00\"  \"$10.00\" \n",
            "[1317] \"$10.00\"  \"$15.00\"  \"$30.00\"  \"$20.00\"  \"$10.00\"  \"$25.00\"  \"$15.00\" \n",
            "[1324] \"$20.00\"  \"$20.00\"  \"$25.00\"  \"$25.00\"  \"$10.00\"  \"$10.00\"  \"$15.00\" \n",
            "[1331] \"$10.00\"  \"$20.00\"  \"$20.00\"  \"$20.00\"  \"$5.00\"   \"$10.00\"  \"$20.00\" \n",
            "[1338] \"$10.00\"  \"$15.00\"  \"$10.00\"  \"$20.00\"  \"$10.00\"  \"$45.00\"  \"$20.00\" \n",
            "[1345] \"$20.00\"  \"$25.00\"  \"$10.00\"  \"$35.00\"  \"$20.00\"  \"$10.00\"  \"$20.00\" \n",
            "[1352] \"$20.00\"  \"$20.00\"  \"$10.00\"  \"$15.00\"  \"$30.00\"  \"$25.00\"  \"$10.00\" \n",
            "[1359] \"$5.00\"   \"$45.00\"  \"$35.00\"  \"$15.00\"  \"$15.00\"  \"$20.00\"  \"$30.00\" \n",
            "[1366] \"$75.00\"  \"$15.00\"  \"$5.00\"   \"$10.00\"  \"$10.00\"  \"$20.00\"  \"$20.00\" \n",
            "[1373] \"$25.00\"  \"$10.00\"  \"$15.00\"  \"$20.00\"  \"$20.00\"  \"$15.00\"  \"$40.00\" \n",
            "[1380] \"$15.00\"  \"$25.00\"  \"$15.00\"  \"$10.00\"  \"$20.00\"  \"$20.00\"  \"$10.00\" \n",
            "[1387] \"$20.00\"  \"$10.00\"  \"$35.00\"  \"$25.00\"  \"$10.00\"  \"$20.00\"  \"$15.00\" \n",
            "[1394] \"$15.00\"  \"$25.00\"  \"$25.00\"  \"$25.00\"  \"$15.00\"  \"$25.00\"  \"$20.00\" \n",
            "[1401] \"$10.00\"  \"$25.00\"  \"$20.00\"  \"$15.00\"  \"$20.00\"  \"$15.00\"  \"$20.00\" \n",
            "[1408] \"$25.00\"  \"$15.00\"  \"$10.00\"  \"$10.00\"  \"$20.00\"  \"$30.00\"  \"$10.00\" \n",
            "[1415] \"$20.00\"  \"$20.00\"  \"$15.00\"  \"$20.00\"  \"$15.00\"  \"$25.00\"  \"$15.00\" \n",
            "[1422] \"$20.00\"  \"$30.00\"  \"$20.00\"  \"$10.00\"  \"$15.00\"  \"$20.00\"  \"$30.00\" \n",
            "[1429] \"$30.00\"  \"$10.00\"  \"$20.00\"  \"$5.00\"   \"$15.00\"  \"$30.00\"  \"$15.00\" \n",
            "[1436] \"$10.00\"  \"$20.00\"  \"$40.00\"  \"$40.00\"  \"$15.00\"  \"$10.00\"  \"$15.00\" \n",
            "[1443] \"$20.00\"  \"$15.00\"  \"$75.00\"  \"$25.00\"  \"$15.00\"  \"$20.00\"  \"$10.00\" \n",
            "[1450] \"$35.00\"  \"$15.00\"  \"$25.00\"  \"$15.00\"  \"$15.00\"  \"$15.00\"  \"$30.00\" \n",
            "[1457] \"$20.00\"  \"$25.00\"  \"$40.00\"  \"$95.00\"  \"$15.00\"  \"$10.00\"  \"$25.00\" \n",
            "[1464] \"$15.00\"  \"$50.00\"  \"$20.00\"  \"$15.00\"  \"$20.00\"  \"$15.00\"  \"$35.00\" \n",
            "[1471] \"$20.00\"  \"$20.00\"  \"$15.00\"  \"$20.00\"  \"$20.00\"  \"$15.00\"  \"$30.00\" \n",
            "[1478] \"$15.00\"  \"$30.00\"  \"$15.00\"  \"$15.00\"  \"$25.00\"  \"$20.00\"  \"$15.00\" \n",
            "[1485] \"$20.00\"  \"$20.00\"  \"$30.00\"  \"$15.00\"  \"$10.00\"  \"$20.00\"  \"$10.00\" \n",
            "[1492] \"$20.00\"  \"$10.00\"  \"$20.00\"  \"$15.00\"  \"$25.00\"  \"$15.00\"  \"$20.00\" \n",
            "[1499] \"$10.00\"  \"$35.00\"  \"$20.00\"  \"$80.00\"  \"$35.00\"  \"$75.00\"  \"$15.00\" \n",
            "[1506] \"$25.00\"  \"$20.00\"  \"$20.00\"  \"$10.00\"  \"$15.00\"  \"$10.00\"  \"$30.00\" \n",
            "[1513] \"$20.00\"  \"$5.00\"   \"$10.00\"  \"$40.00\"  \"$10.00\"  \"$20.00\"  \"$10.00\" \n",
            "[1520] \"$15.00\"  \"$30.00\"  \"$30.00\"  \"$40.00\"  \"$10.00\"  \"$20.00\"  \"$10.00\" \n",
            "[1527] \"$20.00\"  \"$30.00\"  \"$15.00\"  \"$25.00\"  \"$20.00\"  \"$35.00\"  \"$10.00\" \n",
            "[1534] \"$15.00\"  \"$20.00\"  \"$30.00\"  \"$15.00\"  \"$20.00\"  \"$10.00\"  \"$80.00\" \n",
            "[1541] \"$10.00\"  \"$10.00\"  \"$15.00\"  \"$20.00\"  \"$85.00\"  \"$30.00\"  \"$20.00\" \n",
            "[1548] \"$15.00\"  \"$20.00\"  \"$35.00\"  \"$10.00\"  \"$15.00\"  \"$10.00\"  \"$15.00\" \n",
            "[1555] \"$5.00\"   \"$20.00\"  \"$35.00\"  \"$20.00\"  \"$10.00\"  \"$25.00\"  \"$15.00\" \n",
            "[1562] \"$10.00\"  \"$20.00\"  \"$10.00\"  \"$10.00\"  \"$50.00\"  \"$10.00\"  \"$5.00\"  \n",
            "[1569] \"$10.00\"  \"$25.00\"  \"$65.00\"  \"$40.00\"  \"$20.00\"  \"$25.00\"  \"$25.00\" \n",
            "[1576] \"$10.00\"  \"$15.00\"  \"$20.00\"  \"$10.00\"  \"$10.00\"  \"$5.00\"   \"$20.00\" \n",
            "[1583] \"$30.00\"  \"$25.00\"  \"$15.00\"  \"$20.00\"  \"$60.00\"  \"$25.00\"  \"$30.00\" \n",
            "[1590] \"$40.00\"  \"$40.00\"  \"$20.00\"  \"$15.00\"  \"$20.00\"  \"$40.00\"  \"$10.00\" \n",
            "[1597] \"$10.00\"  \"$10.00\"  \"$20.00\"  \"$20.00\"  \"$15.00\"  \"$20.00\"  \"$15.00\" \n",
            "[1604] \"$25.00\"  \"$15.00\"  \"$30.00\"  \"$25.00\"  \"$25.00\"  \"$10.00\"  \"$10.00\" \n",
            "[1611] \"$25.00\"  \"$50.00\"  \"$40.00\"  \"$15.00\"  \"$20.00\"  \"$25.00\"  \"$10.00\" \n",
            "[1618] \"$15.00\"  \"$35.00\"  \"$15.00\"  \"$10.00\"  \"$15.00\"  \"$20.00\"  \"$10.00\" \n",
            "[1625] \"$15.00\"  \"$15.00\"  \"$15.00\"  \"$20.00\"  \"$30.00\"  \"$10.00\"  \"$10.00\" \n",
            "[1632] \"$15.00\"  \"$15.00\"  \"$35.00\"  \"$40.00\"  \"$25.00\"  \"$20.00\"  \"$10.00\" \n",
            "[1639] \"$20.00\"  \"$10.00\"  \"$15.00\"  \"$15.00\"  \"$10.00\"  \"$10.00\"  \"$10.00\" \n",
            "[1646] \"$10.00\"  \"$10.00\"  \"$25.00\"  \"$20.00\"  \"$10.00\"  \"$20.00\"  \"$15.00\" \n",
            "[1653] \"$10.00\"  \"$15.00\"  \"$30.00\"  \"$15.00\"  \"$20.00\"  \"$15.00\"  \"$15.00\" \n",
            "[1660] \"$20.00\"  \"$5.00\"   \"$10.00\"  \"$15.00\"  \"$35.00\"  \"$10.00\"  \"$10.00\" \n",
            "[1667] \"$55.00\"  \"$20.00\"  \"$20.00\"  \"$25.00\"  \"$20.00\"  \"$40.00\"  \"$10.00\" \n",
            "[1674] \"$10.00\"  \"$45.00\"  \"$20.00\"  \"$15.00\"  \"$15.00\"  \"$10.00\"  \"$50.00\" \n",
            "[1681] \"$20.00\"  \"$15.00\"  \"$25.00\"  \"$20.00\"  \"$60.00\"  \"$25.00\"  \"$20.00\" \n",
            "[1688] \"$20.00\"  \"$35.00\"  \"$10.00\"  \"$20.00\"  \"$15.00\"  \"$20.00\"  \"$25.00\" \n",
            "[1695] \"$20.00\"  \"$15.00\"  \"$20.00\"  \"$30.00\"  \"$35.00\"  \"$20.00\"  \"$25.00\" \n",
            "[1702] \"$10.00\"  \"$10.00\"  \"$10.00\"  \"$15.00\"  \"$10.00\"  \"$10.00\"  \"$15.00\" \n",
            "[1709] \"$20.00\"  \"$60.00\"  \"$35.00\"  \"$10.00\"  \"$10.00\"  \"$65.00\"  \"$15.00\" \n",
            "[1716] \"$10.00\"  \"$15.00\"  \"$35.00\"  \"$20.00\"  \"$10.00\"  \"$35.00\"  \"$15.00\" \n",
            "[1723] \"$10.00\"  \"$10.00\"  \"$10.00\"  \"$20.00\"  \"$25.00\"  \"$50.00\"  \"$20.00\" \n",
            "[1730] \"$35.00\"  \"$10.00\"  \"$20.00\"  \"$20.00\"  \"$15.00\"  \"$20.00\"  \"$20.00\" \n",
            "[1737] \"$15.00\"  \"$10.00\"  \"$10.00\"  \"$25.00\"  \"$15.00\"  \"$10.00\"  \"$10.00\" \n",
            "[1744] \"$40.00\"  \"$10.00\"  \"$20.00\"  \"$10.00\"  \"$20.00\"  \"$80.00\"  \"$40.00\" \n",
            "[1751] \"$10.00\"  \"$10.00\"  \"$10.00\"  \"$25.00\"  \"$10.00\"  \"$20.00\"  \"$25.00\" \n",
            "[1758] \"$25.00\"  \"$25.00\"  \"$60.00\"  \"$20.00\"  \"$45.00\"  \"$20.00\"  \"$20.00\" \n",
            "[1765] \"$50.00\"  \"$20.00\"  \"$15.00\"  \"$10.00\"  \"$10.00\"  \"$10.00\"  \"$5.00\"  \n",
            "[1772] \"$15.00\"  \"$60.00\"  \"$15.00\"  \"$20.00\"  \"$20.00\"  \"$20.00\"  \"$60.00\" \n",
            "[1779] \"$10.00\"  \"$15.00\"  \"$15.00\"  \"$20.00\"  \"$15.00\"  \"$10.00\"  \"$15.00\" \n",
            "[1786] \"$20.00\"  \"$10.00\"  \"$45.00\"  \"$50.00\"  \"$10.00\"  \"$20.00\"  \"$10.00\" \n",
            "[1793] \"$25.00\"  \"$15.00\"  \"$25.00\"  \"$20.00\"  \"$10.00\"  \"$20.00\"  \"$60.00\" \n",
            "[1800] \"$40.00\"  \"$10.00\"  \"$15.00\"  \"$20.00\"  \"$20.00\"  \"$35.00\"  \"$60.00\" \n",
            "[1807] \"$15.00\"  \"$20.00\"  \"$10.00\"  \"$25.00\"  \"$15.00\"  \"$20.00\"  \"$25.00\" \n",
            "[1814] \"$10.00\"  \"$20.00\"  \"$15.00\"  \"$25.00\"  \"$15.00\"  \"$15.00\"  \"$35.00\" \n",
            "[1821] \"$15.00\"  \"$15.00\"  \"$15.00\"  \"$30.00\"  \"$5.00\"   \"$50.00\"  \"$15.00\" \n",
            "[1828] \"$40.00\"  \"$15.00\"  \"$15.00\"  \"$15.00\"  \"$10.00\"  \"$10.00\"  \"$10.00\" \n",
            "[1835] \"$15.00\"  \"$15.00\"  \"$40.00\"  \"$20.00\"  \"$15.00\"  \"$10.00\"  \"$20.00\" \n",
            "[1842] \"$15.00\"  \"$10.00\"  \"$50.00\"  \"$5.00\"   \"$40.00\"  \"$10.00\"  \"$20.00\" \n",
            "[1849] \"$25.00\"  \"$20.00\"  \"$15.00\"  \"$20.00\"  \"$15.00\"  \"$25.00\"  \"$15.00\" \n",
            "[1856] \"$30.00\"  \"$20.00\"  \"$25.00\"  \"$20.00\"  \"$15.00\"  \"$10.00\"  \"$15.00\" \n",
            "[1863] \"$20.00\"  \"$20.00\"  \"$10.00\"  \"$20.00\"  \"$20.00\"  \"$35.00\"  \"$20.00\" \n",
            "[1870] \"$10.00\"  \"$15.00\"  \"$20.00\"  \"$25.00\"  \"$10.00\"  \"$20.00\"  \"$20.00\" \n",
            "[1877] \"$25.00\"  \"$20.00\"  \"$15.00\"  \"$35.00\"  \"$20.00\"  \"$25.00\"  \"$10.00\" \n",
            "[1884] \"$65.00\"  \"$10.00\"  \"$25.00\"  \"$20.00\"  \"$10.00\"  \"$10.00\"  \"$20.00\" \n",
            "[1891] \"$15.00\"  \"$20.00\"  \"$15.00\"  \"$10.00\"  \"$10.00\"  \"$10.00\"  \"$30.00\" \n",
            "[1898] \"$20.00\"  \"$15.00\"  \"$10.00\"  \"$20.00\"  \"$20.00\"  \"$20.00\"  \"$20.00\" \n",
            "[1905] \"$30.00\"  \"$20.00\"  \"$15.00\"  \"$20.00\"  \"$25.00\"  \"$20.00\"  \"$10.00\" \n",
            "[1912] \"$25.00\"  \"$20.00\"  \"$20.00\"  \"$10.00\"  \"$20.00\"  \"$10.00\"  \"$20.00\" \n",
            "[1919] \"$15.00\"  \"$15.00\"  \"$20.00\"  \"$10.00\"  \"$20.00\"  \"$20.00\"  \"$10.00\" \n",
            "[1926] \"$25.00\"  \"$30.00\"  \"$30.00\"  \"$15.00\"  \"$10.00\"  \"$25.00\"  \"$5.00\"  \n",
            "[1933] \"$30.00\"  \"$10.00\"  \"$30.00\"  \"$10.00\"  \"$20.00\"  \"$20.00\"  \"$10.00\" \n",
            "[1940] \"$10.00\"  \"$20.00\"  \"$15.00\"  \"$5.00\"   \"$20.00\"  \"$10.00\"  \"$40.00\" \n",
            "[1947] \"$30.00\"  \"$15.00\"  \"$15.00\"  \"$30.00\"  \"$30.00\"  \"$20.00\"  \"$35.00\" \n",
            "[1954] \"$20.00\"  \"$15.00\"  \"$30.00\"  \"$25.00\"  \"$10.00\"  \"$20.00\"  \"$50.00\" \n",
            "[1961] \"$10.00\"  \"$20.00\"  \"$15.00\"  \"$20.00\"  \"$35.00\"  \"$20.00\"  \"$20.00\" \n",
            "[1968] \"$55.00\"  \"$15.00\"  \"$20.00\"  \"$30.00\"  \"$15.00\"  \"$80.00\"  \"$20.00\" \n",
            "[1975] \"$20.00\"  \"$25.00\"  \"$10.00\"  \"$20.00\"  \"$5.00\"   \"$20.00\"  \"$15.00\" \n",
            "[1982] \"$10.00\"  \"$20.00\"  \"$15.00\"  \"$15.00\"  \"$20.00\"  \"$25.00\"  \"$20.00\" \n",
            "[1989] \"$10.00\"  \"$25.00\"  \"$20.00\"  \"$30.00\"  \"$15.00\"  \"$50.00\"  \"$20.00\" \n",
            "[1996] \"$20.00\"  \"$15.00\"  \"$15.00\"  \"$10.00\"  \"$15.00\"  \"$15.00\"  \"$10.00\" \n",
            "[2003] \"$10.00\"  \"$10.00\"  \"$15.00\"  \"$15.00\"  \"$10.00\"  \"$15.00\"  \"$25.00\" \n",
            "[2010] \"$10.00\"  \"$80.00\"  \"$25.00\"  \"$15.00\"  \"$20.00\"  \"$40.00\"  \"$40.00\" \n",
            "[2017] \"$10.00\"  \"$10.00\"  \"$150.00\"\n"
          ],
          "name": "stdout"
        }
      ]
    },
    {
      "cell_type": "markdown",
      "metadata": {
        "id": "dNr4wdGYw6kr"
      },
      "source": [
        "Conclusion 4"
      ]
    },
    {
      "cell_type": "code",
      "metadata": {
        "id": "YrXk5LbEw7gV"
      },
      "source": [
        ""
      ],
      "execution_count": null,
      "outputs": []
    }
  ]
}